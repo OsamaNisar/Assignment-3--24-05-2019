{
 "cells": [
  {
   "cell_type": "markdown",
   "metadata": {},
   "source": [
    "<h3>Q no 1:  Write a python program to find number of occurrences of given number in a list with out using built-in methods</h3>\n",
    "<h4>**1 generate a list of some random num which is repeated again and again</h4>\n",
    "<h4>**2 take user input any number</h4>\n",
    "<h4>**3 find the number of occurrences of that num in your list</h4>\n",
    "<h4>**4 print some message to user with that result</h4>"
   ]
  },
  {
   "cell_type": "code",
   "execution_count": 1,
   "metadata": {},
   "outputs": [
    {
     "name": "stdout",
     "output_type": "stream",
     "text": [
      "Enter any number to find out its occurance: 3\n"
     ]
    }
   ],
   "source": [
    "random_number = [2,34,67,54,3,21,4,7,3,0,6,3,45,32,1,3]\n",
    "input_number=int(input(\"Enter any number to find out its occurance: \"))"
   ]
  },
  {
   "cell_type": "code",
   "execution_count": 2,
   "metadata": {},
   "outputs": [
    {
     "name": "stdout",
     "output_type": "stream",
     "text": [
      "Occurance 4\n"
     ]
    }
   ],
   "source": [
    "occurance=0\n",
    "for i in random_number:\n",
    "    if(input_number==i):\n",
    "        occurance+=1\n",
    "print(\"Occurance\",occurance )"
   ]
  },
  {
   "cell_type": "markdown",
   "metadata": {},
   "source": [
    "<h3>Q no 2:   [\"www.zframez.com\", \"www.wikipedia.org\", \"www.asp.net\", \"www.abcd.in\"]\n",
    "<br/><br/><br/><br/><br/>\n",
    "Write a python program to print website suffixes (com , org , net ,in) from this list\n",
    "\n",
    "Hint : Use split() method to perform this task\n",
    "</h3>\n"
   ]
  },
  {
   "cell_type": "code",
   "execution_count": 3,
   "metadata": {},
   "outputs": [
    {
     "data": {
      "text/plain": [
       "['www.zframez.com', 'www.wikipedia.org', 'www.asp.net', 'www.abcd.in']"
      ]
     },
     "execution_count": 3,
     "metadata": {},
     "output_type": "execute_result"
    }
   ],
   "source": [
    "websites=[\"www.zframez.com\", \"www.wikipedia.org\", \"www.asp.net\", \"www.abcd.in\"] \n",
    "websites"
   ]
  },
  {
   "cell_type": "code",
   "execution_count": 4,
   "metadata": {},
   "outputs": [
    {
     "name": "stdout",
     "output_type": "stream",
     "text": [
      "Suffix: com\n",
      "Suffix: org\n",
      "Suffix: net\n",
      "Suffix: in\n"
     ]
    }
   ],
   "source": [
    "for i in websites:\n",
    "    print(\"Suffix:\",i.split(\".\")[-1])"
   ]
  },
  {
   "cell_type": "markdown",
   "metadata": {},
   "source": [
    "<h3> Q no 3 : Write a program which can compute the factorial of a given numbers.</h3>\n",
    "<br/>\n",
    "<br/>\n",
    "<h4>**1 first take user input any number</h4>\n",
    "<h4>**2 calculate factorial of that input and then print the result to user</h4>"
   ]
  },
  {
   "cell_type": "code",
   "execution_count": 12,
   "metadata": {},
   "outputs": [
    {
     "name": "stdout",
     "output_type": "stream",
     "text": [
      "Enter any number to calculate its factorial: 6\n",
      "Facorial of givien number is: 720\n"
     ]
    }
   ],
   "source": [
    "number= int(input(\"Enter any number to calculate its factorial: \"))\n",
    "factorial=1\n",
    "if number == 0:\n",
    "    print(\"Facorial of 0 is 1\")\n",
    "elif number<=0:\n",
    "    print(\"kindly print a positive number\")\n",
    "else:\n",
    "    for i in range(1,number+1):\n",
    "        factorial=factorial*i\n",
    "    print(\"Facorial of givien number is:\",factorial)"
   ]
  },
  {
   "cell_type": "markdown",
   "metadata": {},
   "source": [
    "<h3>Q 4 (a) :  If you could invite anyone, living or deceased, to dinner, who\n",
    "would you invite? Make a list that includes at least three people you’d like to\n",
    "invite to dinner. Then use your list to print a message to each person, inviting\n",
    "them to dinner.</h3>"
   ]
  },
  {
   "cell_type": "code",
   "execution_count": 13,
   "metadata": {
    "scrolled": true
   },
   "outputs": [
    {
     "name": "stdout",
     "output_type": "stream",
     "text": [
      "Hey Ahmed whatsup..i would like to invite u on dinner on saturdy night at my place!\n",
      "Hey Murtaza whatsup..i would like to invite u on dinner on saturdy night at my place!\n",
      "Hey whahab whatsup..i would like to invite u on dinner on saturdy night at my place!\n",
      "Hey Majid whatsup..i would like to invite u on dinner on saturdy night at my place!\n",
      "Hey Imran whatsup..i would like to invite u on dinner on saturdy night at my place!\n"
     ]
    }
   ],
   "source": [
    "list_of_guest_to_be_invited=[\"Ahmed\",\"Murtaza\",\"whahab\",\"Majid\",\"Imran\"]\n",
    "for names in list_of_guest_to_be_invited:\n",
    "    print(\"Hey\",names,\"whatsup..i would like to invite u on dinner on saturdy night at my place!\")"
   ]
  },
  {
   "cell_type": "markdown",
   "metadata": {},
   "source": [
    "<h3>Q 4 (b) : You just heard that one of your guests can’t make the\n",
    "dinner, so you need to send out a new set of invitations. You’ll have to think of\n",
    "someone else to invite.<br/></br><br/>\n",
    "•\t Start with your program from Q 4 (a). Add a print statement at the\n",
    "end of your program stating the name of the guest who can’t make it.<br/></br><br/>\n",
    "•\t Modify your list, replacing the name of the guest who can’t make it with\n",
    "the name of the new person you are inviting.<br/></br><br/>\n",
    "•\t Print a second set of invitation messages, one for each person who is still\n",
    "in your list.<br/></br><br/></h3>"
   ]
  },
  {
   "cell_type": "code",
   "execution_count": 14,
   "metadata": {},
   "outputs": [
    {
     "name": "stdout",
     "output_type": "stream",
     "text": [
      "whahab : sorry, i will not able to come\n"
     ]
    }
   ],
   "source": [
    "list_of_guest_to_be_invited=[\"Ahmed\",\"Murtaza\",\"whahab\",\"Majid\",\"Imran\"]\n",
    "print(list_of_guest_to_be_invited[2],\":\",\"sorry, i will not able to come\")"
   ]
  },
  {
   "cell_type": "code",
   "execution_count": 19,
   "metadata": {},
   "outputs": [
    {
     "name": "stdout",
     "output_type": "stream",
     "text": [
      "New list of guests is: ['Ahmed', 'Murtaza', 'amir', 'Majid', 'Imran']\n"
     ]
    }
   ],
   "source": [
    "new_list=list_of_guest_to_be_invited=[\"Ahmed\",\"Murtaza\",\"whahab\",\"Majid\",\"Imran\"]\n",
    "new_list[2]='amir'\n",
    "new_list\n",
    "print(\"New list of guests is:\",new_list)"
   ]
  },
  {
   "cell_type": "code",
   "execution_count": 16,
   "metadata": {},
   "outputs": [
    {
     "name": "stdout",
     "output_type": "stream",
     "text": [
      "hey Ahmed whatsup..i would like to invite u on dinner on saturdy night at my place!\n",
      "hey Murtaza whatsup..i would like to invite u on dinner on saturdy night at my place!\n",
      "hey amir whatsup..i would like to invite u on dinner on saturdy night at my place!\n",
      "hey Majid whatsup..i would like to invite u on dinner on saturdy night at my place!\n",
      "hey Imran whatsup..i would like to invite u on dinner on saturdy night at my place!\n"
     ]
    }
   ],
   "source": [
    "for new_list in list_of_guest_to_be_invited:\n",
    "    print(\"hey\",new_list,\"whatsup..i would like to invite u on dinner on saturdy night at my place!\")"
   ]
  },
  {
   "cell_type": "markdown",
   "metadata": {},
   "source": [
    "<h3>Q 4 (c) : You just found a bigger dinner table, so now more space is\n",
    "available. Think of three more guests to invite to dinner.<br/></br><br/>\n",
    "•\t Start with your program from Q 4 (a) and (b) Add a print\n",
    "statement to the end of your program informing people that you found a\n",
    "bigger dinner table.<br/></br><br/>\n",
    "•\t Use insert() to add one new guest to the beginning of your list.<br/></br><br/>\n",
    "•\t Use insert() to add one new guest to the middle of your list.<br/></br><br/>\n",
    "•\t Use append() to add one new guest to the end of your list.<br/></br><br/>\n",
    "•\t Print a new set of invitation messages, one for each person in your list.<br/></br><br/></h3>"
   ]
  },
  {
   "cell_type": "code",
   "execution_count": 20,
   "metadata": {},
   "outputs": [
    {
     "name": "stdout",
     "output_type": "stream",
     "text": [
      "Ahmed i have found some bigger table\n",
      "Murtaza i have found some bigger table\n",
      "amir i have found some bigger table\n",
      "Majid i have found some bigger table\n",
      "Imran i have found some bigger table\n"
     ]
    }
   ],
   "source": [
    "for new_list in list_of_guest_to_be_invited:\n",
    "    print(new_list,\"i have found some bigger table\")"
   ]
  },
  {
   "cell_type": "code",
   "execution_count": 21,
   "metadata": {},
   "outputs": [
    {
     "name": "stdout",
     "output_type": "stream",
     "text": [
      "New list of guests is: ['Ahmed', 'Murtaza', 'amir', 'Majid', 'Imran']\n"
     ]
    }
   ],
   "source": [
    "new_list=list_of_guest_to_be_invited=[\"Ahmed\",\"Murtaza\",\"whahab\",\"Majid\",\"Imran\"]\n",
    "new_list[2]='amir'\n",
    "new_list\n",
    "print(\"New list of guests is:\",new_list)\n",
    "new_list.insert(6,'Shayan')\n",
    "new_list.insert(1,'Javed')\n",
    "new_list.insert(7,'Ahmer')\n",
    "new_list.insert(8,'Ali')\n",
    "new_list.insert(3,'Meer')\n",
    "new_list.insert(4,'Ahad')\n",
    "new_list.insert(0,'Abdullah')\n",
    "new_list.append('Hmaza')"
   ]
  },
  {
   "cell_type": "code",
   "execution_count": 22,
   "metadata": {},
   "outputs": [
    {
     "data": {
      "text/plain": [
       "['Abdullah',\n",
       " 'Ahmed',\n",
       " 'Javed',\n",
       " 'Murtaza',\n",
       " 'Meer',\n",
       " 'Ahad',\n",
       " 'amir',\n",
       " 'Majid',\n",
       " 'Imran',\n",
       " 'Shayan',\n",
       " 'Ahmer',\n",
       " 'Ali',\n",
       " 'Hmaza']"
      ]
     },
     "execution_count": 22,
     "metadata": {},
     "output_type": "execute_result"
    }
   ],
   "source": [
    "new_list"
   ]
  },
  {
   "cell_type": "code",
   "execution_count": 23,
   "metadata": {},
   "outputs": [
    {
     "name": "stdout",
     "output_type": "stream",
     "text": [
      "Hey Abdullah whatsup..i would like to invite u on dinner on saturdy night at my place!\n",
      "Hey Ahmed whatsup..i would like to invite u on dinner on saturdy night at my place!\n",
      "Hey Javed whatsup..i would like to invite u on dinner on saturdy night at my place!\n",
      "Hey Murtaza whatsup..i would like to invite u on dinner on saturdy night at my place!\n",
      "Hey Meer whatsup..i would like to invite u on dinner on saturdy night at my place!\n",
      "Hey Ahad whatsup..i would like to invite u on dinner on saturdy night at my place!\n",
      "Hey amir whatsup..i would like to invite u on dinner on saturdy night at my place!\n",
      "Hey Majid whatsup..i would like to invite u on dinner on saturdy night at my place!\n",
      "Hey Imran whatsup..i would like to invite u on dinner on saturdy night at my place!\n",
      "Hey Shayan whatsup..i would like to invite u on dinner on saturdy night at my place!\n",
      "Hey Ahmer whatsup..i would like to invite u on dinner on saturdy night at my place!\n",
      "Hey Ali whatsup..i would like to invite u on dinner on saturdy night at my place!\n",
      "Hey Hmaza whatsup..i would like to invite u on dinner on saturdy night at my place!\n"
     ]
    }
   ],
   "source": [
    "for name in new_list:\n",
    "    print(\"Hey\",name,\"whatsup..i would like to invite u on dinner on saturdy night at my place!\")"
   ]
  },
  {
   "cell_type": "markdown",
   "metadata": {},
   "source": [
    "<h5> Q 5 : Here you have some data in variable below, your task is to make a list of specific word Surah then print the list and length of list</h5>\n"
   ]
  },
  {
   "cell_type": "code",
   "execution_count": 31,
   "metadata": {},
   "outputs": [
    {
     "data": {
      "text/plain": [
       "'Sura I Who believe in the Unseen, Sura Are steadfast in prayer, And spend Sura out of what We Have provided for them;'"
      ]
     },
     "execution_count": 31,
     "metadata": {},
     "output_type": "execute_result"
    }
   ],
   "source": [
    "data=\"Sura I Who believe in the Unseen, Sura Are steadfast in prayer, And spend Sura out of what We Have provided for them;\"\n",
    "data"
   ]
  },
  {
   "cell_type": "code",
   "execution_count": 32,
   "metadata": {},
   "outputs": [
    {
     "data": {
      "text/plain": [
       "['Sura',\n",
       " 'I',\n",
       " 'Who',\n",
       " 'believe',\n",
       " 'in',\n",
       " 'the',\n",
       " 'Unseen,',\n",
       " 'Sura',\n",
       " 'Are',\n",
       " 'steadfast',\n",
       " 'in',\n",
       " 'prayer,',\n",
       " 'And',\n",
       " 'spend',\n",
       " 'Sura',\n",
       " 'out',\n",
       " 'of',\n",
       " 'what',\n",
       " 'We',\n",
       " 'Have',\n",
       " 'provided',\n",
       " 'for',\n",
       " 'them;']"
      ]
     },
     "execution_count": 32,
     "metadata": {},
     "output_type": "execute_result"
    }
   ],
   "source": [
    "data=\"Sura I Who believe in the Unseen, Sura Are steadfast in prayer, And spend Sura out of what We Have provided for them;\"\n",
    "data=given_data.split(\" \")\n",
    "data"
   ]
  },
  {
   "cell_type": "code",
   "execution_count": 40,
   "metadata": {},
   "outputs": [
    {
     "name": "stdout",
     "output_type": "stream",
     "text": [
      "['Sura', 'Sura', 'Sura']\n",
      "The times sura appears in this given data is: 3 times\n"
     ]
    }
   ],
   "source": [
    "newlst = []\n",
    "for i in data:\n",
    "    if(i == 'Sura'):\n",
    "          newlst.append('Sura')\n",
    "print(newlst)\n",
    "print(\"The times sura appears in this given data is:\",len(newlst),\"times\")"
   ]
  },
  {
   "cell_type": "markdown",
   "metadata": {},
   "source": [
    " <h3>Q no 6 : You have some name of cities in list named cities, Your task is to check whether Karachi is present in this list or not, if present print the index where the value Karachi is present</h3>"
   ]
  },
  {
   "cell_type": "code",
   "execution_count": 41,
   "metadata": {},
   "outputs": [
    {
     "data": {
      "text/plain": [
       "['islamabad',\n",
       " 'Rawalpindi',\n",
       " 'Abotabad',\n",
       " 'Multan',\n",
       " 'Karachi',\n",
       " 'Lahore',\n",
       " 'Peshawar']"
      ]
     },
     "execution_count": 41,
     "metadata": {},
     "output_type": "execute_result"
    }
   ],
   "source": [
    "cities = ['islamabad','Rawalpindi','Abotabad','Multan','Karachi','Lahore','Peshawar']\n",
    "cities"
   ]
  },
  {
   "cell_type": "code",
   "execution_count": 42,
   "metadata": {},
   "outputs": [
    {
     "name": "stdout",
     "output_type": "stream",
     "text": [
      "Karachi is present in the given list\n"
     ]
    }
   ],
   "source": [
    "for i in cities:\n",
    "    if i == 'Karachi':\n",
    "        print(\"Karachi is present in the given list\")"
   ]
  },
  {
   "cell_type": "code",
   "execution_count": 43,
   "metadata": {},
   "outputs": [
    {
     "name": "stdout",
     "output_type": "stream",
     "text": [
      "Index value of Karachi is: 4\n"
     ]
    }
   ],
   "source": [
    "print(\"Index value of Karachi is:\",cities.index('Karachi'))"
   ]
  }
 ],
 "metadata": {
  "kernelspec": {
   "display_name": "Python 3",
   "language": "python",
   "name": "python3"
  },
  "language_info": {
   "codemirror_mode": {
    "name": "ipython",
    "version": 3
   },
   "file_extension": ".py",
   "mimetype": "text/x-python",
   "name": "python",
   "nbconvert_exporter": "python",
   "pygments_lexer": "ipython3",
   "version": "3.6.5"
  }
 },
 "nbformat": 4,
 "nbformat_minor": 2
}
